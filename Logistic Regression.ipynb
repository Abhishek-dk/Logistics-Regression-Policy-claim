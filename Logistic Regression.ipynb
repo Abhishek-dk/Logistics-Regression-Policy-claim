{
 "cells": [
  {
   "cell_type": "code",
   "execution_count": 5,
   "metadata": {},
   "outputs": [],
   "source": [
    "import pandas as pd\n",
    "from sklearn.linear_model import LogisticRegression\n",
    "import matplotlib.pyplot as plt\n",
    "import seaborn as sns\n",
    "from sklearn import metrics "
   ]
  },
  {
   "cell_type": "code",
   "execution_count": 7,
   "metadata": {},
   "outputs": [
    {
     "data": {
      "text/html": [
       "<div>\n",
       "<style scoped>\n",
       "    .dataframe tbody tr th:only-of-type {\n",
       "        vertical-align: middle;\n",
       "    }\n",
       "\n",
       "    .dataframe tbody tr th {\n",
       "        vertical-align: top;\n",
       "    }\n",
       "\n",
       "    .dataframe thead th {\n",
       "        text-align: right;\n",
       "    }\n",
       "</style>\n",
       "<table border=\"1\" class=\"dataframe\">\n",
       "  <thead>\n",
       "    <tr style=\"text-align: right;\">\n",
       "      <th></th>\n",
       "      <th>CASENUM</th>\n",
       "      <th>ATTORNEY</th>\n",
       "      <th>CLMSEX</th>\n",
       "      <th>CLMINSUR</th>\n",
       "      <th>SEATBELT</th>\n",
       "      <th>CLMAGE</th>\n",
       "      <th>LOSS</th>\n",
       "    </tr>\n",
       "  </thead>\n",
       "  <tbody>\n",
       "    <tr>\n",
       "      <th>0</th>\n",
       "      <td>5</td>\n",
       "      <td>0</td>\n",
       "      <td>0.0</td>\n",
       "      <td>1.0</td>\n",
       "      <td>0.0</td>\n",
       "      <td>50.0</td>\n",
       "      <td>34.940</td>\n",
       "    </tr>\n",
       "    <tr>\n",
       "      <th>1</th>\n",
       "      <td>3</td>\n",
       "      <td>1</td>\n",
       "      <td>1.0</td>\n",
       "      <td>0.0</td>\n",
       "      <td>0.0</td>\n",
       "      <td>18.0</td>\n",
       "      <td>0.891</td>\n",
       "    </tr>\n",
       "    <tr>\n",
       "      <th>2</th>\n",
       "      <td>66</td>\n",
       "      <td>1</td>\n",
       "      <td>0.0</td>\n",
       "      <td>1.0</td>\n",
       "      <td>0.0</td>\n",
       "      <td>5.0</td>\n",
       "      <td>0.330</td>\n",
       "    </tr>\n",
       "    <tr>\n",
       "      <th>3</th>\n",
       "      <td>70</td>\n",
       "      <td>0</td>\n",
       "      <td>0.0</td>\n",
       "      <td>1.0</td>\n",
       "      <td>1.0</td>\n",
       "      <td>31.0</td>\n",
       "      <td>0.037</td>\n",
       "    </tr>\n",
       "    <tr>\n",
       "      <th>4</th>\n",
       "      <td>96</td>\n",
       "      <td>1</td>\n",
       "      <td>0.0</td>\n",
       "      <td>1.0</td>\n",
       "      <td>0.0</td>\n",
       "      <td>30.0</td>\n",
       "      <td>0.038</td>\n",
       "    </tr>\n",
       "  </tbody>\n",
       "</table>\n",
       "</div>"
      ],
      "text/plain": [
       "   CASENUM  ATTORNEY  CLMSEX  CLMINSUR  SEATBELT  CLMAGE    LOSS\n",
       "0        5         0     0.0       1.0       0.0    50.0  34.940\n",
       "1        3         1     1.0       0.0       0.0    18.0   0.891\n",
       "2       66         1     0.0       1.0       0.0     5.0   0.330\n",
       "3       70         0     0.0       1.0       1.0    31.0   0.037\n",
       "4       96         1     0.0       1.0       0.0    30.0   0.038"
      ]
     },
     "execution_count": 7,
     "metadata": {},
     "output_type": "execute_result"
    }
   ],
   "source": [
    "#Load the data set\n",
    "claimants = pd.read_csv(\"claimants.csv\")\n",
    "claimants.head()"
   ]
  },
  {
   "cell_type": "code",
   "execution_count": 8,
   "metadata": {},
   "outputs": [],
   "source": [
    "# dropping the case number columns as it is not required\n",
    "claimants.drop([\"CASENUM\"],inplace=True,axis = 1)\n"
   ]
  },
  {
   "cell_type": "code",
   "execution_count": 9,
   "metadata": {},
   "outputs": [
    {
     "data": {
      "text/html": [
       "<div>\n",
       "<style scoped>\n",
       "    .dataframe tbody tr th:only-of-type {\n",
       "        vertical-align: middle;\n",
       "    }\n",
       "\n",
       "    .dataframe tbody tr th {\n",
       "        vertical-align: top;\n",
       "    }\n",
       "\n",
       "    .dataframe thead th {\n",
       "        text-align: right;\n",
       "    }\n",
       "</style>\n",
       "<table border=\"1\" class=\"dataframe\">\n",
       "  <thead>\n",
       "    <tr style=\"text-align: right;\">\n",
       "      <th></th>\n",
       "      <th>ATTORNEY</th>\n",
       "      <th>CLMSEX</th>\n",
       "      <th>CLMINSUR</th>\n",
       "      <th>SEATBELT</th>\n",
       "      <th>CLMAGE</th>\n",
       "      <th>LOSS</th>\n",
       "    </tr>\n",
       "  </thead>\n",
       "  <tbody>\n",
       "    <tr>\n",
       "      <th>0</th>\n",
       "      <td>0</td>\n",
       "      <td>0.0</td>\n",
       "      <td>1.0</td>\n",
       "      <td>0.0</td>\n",
       "      <td>50.0</td>\n",
       "      <td>34.940</td>\n",
       "    </tr>\n",
       "    <tr>\n",
       "      <th>1</th>\n",
       "      <td>1</td>\n",
       "      <td>1.0</td>\n",
       "      <td>0.0</td>\n",
       "      <td>0.0</td>\n",
       "      <td>18.0</td>\n",
       "      <td>0.891</td>\n",
       "    </tr>\n",
       "    <tr>\n",
       "      <th>2</th>\n",
       "      <td>1</td>\n",
       "      <td>0.0</td>\n",
       "      <td>1.0</td>\n",
       "      <td>0.0</td>\n",
       "      <td>5.0</td>\n",
       "      <td>0.330</td>\n",
       "    </tr>\n",
       "    <tr>\n",
       "      <th>3</th>\n",
       "      <td>0</td>\n",
       "      <td>0.0</td>\n",
       "      <td>1.0</td>\n",
       "      <td>1.0</td>\n",
       "      <td>31.0</td>\n",
       "      <td>0.037</td>\n",
       "    </tr>\n",
       "    <tr>\n",
       "      <th>4</th>\n",
       "      <td>1</td>\n",
       "      <td>0.0</td>\n",
       "      <td>1.0</td>\n",
       "      <td>0.0</td>\n",
       "      <td>30.0</td>\n",
       "      <td>0.038</td>\n",
       "    </tr>\n",
       "  </tbody>\n",
       "</table>\n",
       "</div>"
      ],
      "text/plain": [
       "   ATTORNEY  CLMSEX  CLMINSUR  SEATBELT  CLMAGE    LOSS\n",
       "0         0     0.0       1.0       0.0    50.0  34.940\n",
       "1         1     1.0       0.0       0.0    18.0   0.891\n",
       "2         1     0.0       1.0       0.0     5.0   0.330\n",
       "3         0     0.0       1.0       1.0    31.0   0.037\n",
       "4         1     0.0       1.0       0.0    30.0   0.038"
      ]
     },
     "execution_count": 9,
     "metadata": {},
     "output_type": "execute_result"
    }
   ],
   "source": [
    "claimants.head()"
   ]
  },
  {
   "cell_type": "code",
   "execution_count": 10,
   "metadata": {},
   "outputs": [
    {
     "data": {
      "text/plain": [
       "(1340, 6)"
      ]
     },
     "execution_count": 10,
     "metadata": {},
     "output_type": "execute_result"
    }
   ],
   "source": [
    "#Shape of the data set\n",
    "claimants.shape"
   ]
  },
  {
   "cell_type": "code",
   "execution_count": 11,
   "metadata": {},
   "outputs": [
    {
     "data": {
      "text/plain": [
       "(1096, 6)"
      ]
     },
     "execution_count": 11,
     "metadata": {},
     "output_type": "execute_result"
    }
   ],
   "source": [
    "# Removing NA values in data set\n",
    "claimants = claimants.dropna()\n",
    "claimants.shape"
   ]
  },
  {
   "cell_type": "code",
   "execution_count": 12,
   "metadata": {},
   "outputs": [
    {
     "name": "stdout",
     "output_type": "stream",
     "text": [
      "      CLMSEX  CLMINSUR  SEATBELT  CLMAGE    LOSS\n",
      "0        0.0       1.0       0.0    50.0  34.940\n",
      "1        1.0       0.0       0.0    18.0   0.891\n",
      "2        0.0       1.0       0.0     5.0   0.330\n",
      "3        0.0       1.0       1.0    31.0   0.037\n",
      "4        0.0       1.0       0.0    30.0   0.038\n",
      "...      ...       ...       ...     ...     ...\n",
      "1334     1.0       1.0       0.0    16.0   0.060\n",
      "1336     1.0       1.0       0.0    46.0   3.705\n",
      "1337     1.0       1.0       0.0    39.0   0.099\n",
      "1338     1.0       0.0       0.0     8.0   3.177\n",
      "1339     1.0       1.0       0.0    30.0   0.688\n",
      "\n",
      "[1096 rows x 5 columns]\n",
      "0       0\n",
      "1       1\n",
      "2       1\n",
      "3       0\n",
      "4       1\n",
      "       ..\n",
      "1334    1\n",
      "1336    0\n",
      "1337    1\n",
      "1338    0\n",
      "1339    1\n",
      "Name: ATTORNEY, Length: 1096, dtype: int64\n"
     ]
    }
   ],
   "source": [
    "# Dividing our data into input and output variables \n",
    "X = claimants.iloc[:,1:]\n",
    "Y = claimants.iloc[:,0]\n",
    "print(X)\n",
    "print(Y)"
   ]
  },
  {
   "cell_type": "code",
   "execution_count": 13,
   "metadata": {},
   "outputs": [
    {
     "data": {
      "text/plain": [
       "0    578\n",
       "1    518\n",
       "Name: ATTORNEY, dtype: int64"
      ]
     },
     "execution_count": 13,
     "metadata": {},
     "output_type": "execute_result"
    }
   ],
   "source": [
    "Y.value_counts()"
   ]
  },
  {
   "cell_type": "code",
   "execution_count": null,
   "metadata": {},
   "outputs": [],
   "source": []
  },
  {
   "cell_type": "code",
   "execution_count": 14,
   "metadata": {},
   "outputs": [
    {
     "data": {
      "text/html": [
       "<style>#sk-container-id-1 {color: black;background-color: white;}#sk-container-id-1 pre{padding: 0;}#sk-container-id-1 div.sk-toggleable {background-color: white;}#sk-container-id-1 label.sk-toggleable__label {cursor: pointer;display: block;width: 100%;margin-bottom: 0;padding: 0.3em;box-sizing: border-box;text-align: center;}#sk-container-id-1 label.sk-toggleable__label-arrow:before {content: \"▸\";float: left;margin-right: 0.25em;color: #696969;}#sk-container-id-1 label.sk-toggleable__label-arrow:hover:before {color: black;}#sk-container-id-1 div.sk-estimator:hover label.sk-toggleable__label-arrow:before {color: black;}#sk-container-id-1 div.sk-toggleable__content {max-height: 0;max-width: 0;overflow: hidden;text-align: left;background-color: #f0f8ff;}#sk-container-id-1 div.sk-toggleable__content pre {margin: 0.2em;color: black;border-radius: 0.25em;background-color: #f0f8ff;}#sk-container-id-1 input.sk-toggleable__control:checked~div.sk-toggleable__content {max-height: 200px;max-width: 100%;overflow: auto;}#sk-container-id-1 input.sk-toggleable__control:checked~label.sk-toggleable__label-arrow:before {content: \"▾\";}#sk-container-id-1 div.sk-estimator input.sk-toggleable__control:checked~label.sk-toggleable__label {background-color: #d4ebff;}#sk-container-id-1 div.sk-label input.sk-toggleable__control:checked~label.sk-toggleable__label {background-color: #d4ebff;}#sk-container-id-1 input.sk-hidden--visually {border: 0;clip: rect(1px 1px 1px 1px);clip: rect(1px, 1px, 1px, 1px);height: 1px;margin: -1px;overflow: hidden;padding: 0;position: absolute;width: 1px;}#sk-container-id-1 div.sk-estimator {font-family: monospace;background-color: #f0f8ff;border: 1px dotted black;border-radius: 0.25em;box-sizing: border-box;margin-bottom: 0.5em;}#sk-container-id-1 div.sk-estimator:hover {background-color: #d4ebff;}#sk-container-id-1 div.sk-parallel-item::after {content: \"\";width: 100%;border-bottom: 1px solid gray;flex-grow: 1;}#sk-container-id-1 div.sk-label:hover label.sk-toggleable__label {background-color: #d4ebff;}#sk-container-id-1 div.sk-serial::before {content: \"\";position: absolute;border-left: 1px solid gray;box-sizing: border-box;top: 0;bottom: 0;left: 50%;z-index: 0;}#sk-container-id-1 div.sk-serial {display: flex;flex-direction: column;align-items: center;background-color: white;padding-right: 0.2em;padding-left: 0.2em;position: relative;}#sk-container-id-1 div.sk-item {position: relative;z-index: 1;}#sk-container-id-1 div.sk-parallel {display: flex;align-items: stretch;justify-content: center;background-color: white;position: relative;}#sk-container-id-1 div.sk-item::before, #sk-container-id-1 div.sk-parallel-item::before {content: \"\";position: absolute;border-left: 1px solid gray;box-sizing: border-box;top: 0;bottom: 0;left: 50%;z-index: -1;}#sk-container-id-1 div.sk-parallel-item {display: flex;flex-direction: column;z-index: 1;position: relative;background-color: white;}#sk-container-id-1 div.sk-parallel-item:first-child::after {align-self: flex-end;width: 50%;}#sk-container-id-1 div.sk-parallel-item:last-child::after {align-self: flex-start;width: 50%;}#sk-container-id-1 div.sk-parallel-item:only-child::after {width: 0;}#sk-container-id-1 div.sk-dashed-wrapped {border: 1px dashed gray;margin: 0 0.4em 0.5em 0.4em;box-sizing: border-box;padding-bottom: 0.4em;background-color: white;}#sk-container-id-1 div.sk-label label {font-family: monospace;font-weight: bold;display: inline-block;line-height: 1.2em;}#sk-container-id-1 div.sk-label-container {text-align: center;}#sk-container-id-1 div.sk-container {/* jupyter's `normalize.less` sets `[hidden] { display: none; }` but bootstrap.min.css set `[hidden] { display: none !important; }` so we also need the `!important` here to be able to override the default hidden behavior on the sphinx rendered scikit-learn.org. See: https://github.com/scikit-learn/scikit-learn/issues/21755 */display: inline-block !important;position: relative;}#sk-container-id-1 div.sk-text-repr-fallback {display: none;}</style><div id=\"sk-container-id-1\" class=\"sk-top-container\"><div class=\"sk-text-repr-fallback\"><pre>LogisticRegression()</pre><b>In a Jupyter environment, please rerun this cell to show the HTML representation or trust the notebook. <br />On GitHub, the HTML representation is unable to render, please try loading this page with nbviewer.org.</b></div><div class=\"sk-container\" hidden><div class=\"sk-item\"><div class=\"sk-estimator sk-toggleable\"><input class=\"sk-toggleable__control sk-hidden--visually\" id=\"sk-estimator-id-1\" type=\"checkbox\" checked><label for=\"sk-estimator-id-1\" class=\"sk-toggleable__label sk-toggleable__label-arrow\">LogisticRegression</label><div class=\"sk-toggleable__content\"><pre>LogisticRegression()</pre></div></div></div></div></div>"
      ],
      "text/plain": [
       "LogisticRegression()"
      ]
     },
     "execution_count": 14,
     "metadata": {},
     "output_type": "execute_result"
    }
   ],
   "source": [
    "#Logistic regression and fit the model\n",
    "#it takes probability function\n",
    "classifier = LogisticRegression()\n",
    "classifier.fit(X,Y)\n",
    "#classifier.write_to_pickle('path of file.pkl')"
   ]
  },
  {
   "cell_type": "code",
   "execution_count": 15,
   "metadata": {},
   "outputs": [
    {
     "data": {
      "text/plain": [
       "array([0, 1, 1, ..., 1, 0, 1], dtype=int64)"
      ]
     },
     "execution_count": 15,
     "metadata": {},
     "output_type": "execute_result"
    }
   ],
   "source": [
    "#Predict for X dataset\n",
    "#predict on test data\n",
    "y_pred = classifier.predict(X)\n",
    "y_pred"
   ]
  },
  {
   "cell_type": "code",
   "execution_count": 16,
   "metadata": {},
   "outputs": [
    {
     "data": {
      "text/plain": [
       "0"
      ]
     },
     "execution_count": 16,
     "metadata": {},
     "output_type": "execute_result"
    }
   ],
   "source": [
    "classifier.predict(X)[43]"
   ]
  },
  {
   "cell_type": "code",
   "execution_count": 17,
   "metadata": {},
   "outputs": [],
   "source": [
    "y_pred_df= pd.DataFrame({'actual': Y,\n",
    "                         'predicted_prob': classifier.predict(X)})"
   ]
  },
  {
   "cell_type": "code",
   "execution_count": 18,
   "metadata": {},
   "outputs": [
    {
     "data": {
      "text/html": [
       "<div>\n",
       "<style scoped>\n",
       "    .dataframe tbody tr th:only-of-type {\n",
       "        vertical-align: middle;\n",
       "    }\n",
       "\n",
       "    .dataframe tbody tr th {\n",
       "        vertical-align: top;\n",
       "    }\n",
       "\n",
       "    .dataframe thead th {\n",
       "        text-align: right;\n",
       "    }\n",
       "</style>\n",
       "<table border=\"1\" class=\"dataframe\">\n",
       "  <thead>\n",
       "    <tr style=\"text-align: right;\">\n",
       "      <th></th>\n",
       "      <th>actual</th>\n",
       "      <th>predicted_prob</th>\n",
       "    </tr>\n",
       "  </thead>\n",
       "  <tbody>\n",
       "    <tr>\n",
       "      <th>0</th>\n",
       "      <td>0</td>\n",
       "      <td>0</td>\n",
       "    </tr>\n",
       "    <tr>\n",
       "      <th>1</th>\n",
       "      <td>1</td>\n",
       "      <td>1</td>\n",
       "    </tr>\n",
       "    <tr>\n",
       "      <th>2</th>\n",
       "      <td>1</td>\n",
       "      <td>1</td>\n",
       "    </tr>\n",
       "    <tr>\n",
       "      <th>3</th>\n",
       "      <td>0</td>\n",
       "      <td>0</td>\n",
       "    </tr>\n",
       "    <tr>\n",
       "      <th>4</th>\n",
       "      <td>1</td>\n",
       "      <td>1</td>\n",
       "    </tr>\n",
       "    <tr>\n",
       "      <th>...</th>\n",
       "      <td>...</td>\n",
       "      <td>...</td>\n",
       "    </tr>\n",
       "    <tr>\n",
       "      <th>1334</th>\n",
       "      <td>1</td>\n",
       "      <td>1</td>\n",
       "    </tr>\n",
       "    <tr>\n",
       "      <th>1336</th>\n",
       "      <td>0</td>\n",
       "      <td>0</td>\n",
       "    </tr>\n",
       "    <tr>\n",
       "      <th>1337</th>\n",
       "      <td>1</td>\n",
       "      <td>1</td>\n",
       "    </tr>\n",
       "    <tr>\n",
       "      <th>1338</th>\n",
       "      <td>0</td>\n",
       "      <td>0</td>\n",
       "    </tr>\n",
       "    <tr>\n",
       "      <th>1339</th>\n",
       "      <td>1</td>\n",
       "      <td>1</td>\n",
       "    </tr>\n",
       "  </tbody>\n",
       "</table>\n",
       "<p>1096 rows × 2 columns</p>\n",
       "</div>"
      ],
      "text/plain": [
       "      actual  predicted_prob\n",
       "0          0               0\n",
       "1          1               1\n",
       "2          1               1\n",
       "3          0               0\n",
       "4          1               1\n",
       "...      ...             ...\n",
       "1334       1               1\n",
       "1336       0               0\n",
       "1337       1               1\n",
       "1338       0               0\n",
       "1339       1               1\n",
       "\n",
       "[1096 rows x 2 columns]"
      ]
     },
     "execution_count": 18,
     "metadata": {},
     "output_type": "execute_result"
    }
   ],
   "source": [
    "y_pred_df\n",
    "#erroe on 5,12,13"
   ]
  },
  {
   "cell_type": "markdown",
   "metadata": {},
   "source": [
    "# error in matrix"
   ]
  },
  {
   "cell_type": "code",
   "execution_count": 19,
   "metadata": {},
   "outputs": [
    {
     "name": "stdout",
     "output_type": "stream",
     "text": [
      "[[381 197]\n",
      " [123 395]]\n"
     ]
    }
   ],
   "source": [
    "# Confusion Matrix for the model accuracy\n",
    "#mae,rmse,mse\n",
    "from sklearn.metrics import confusion_matrix\n",
    "cm = confusion_matrix(Y,y_pred)\n",
    "print (cm)\n",
    "\n",
    "#381+395 is correct classifiction\n",
    "#123+197 remaining misclassification"
   ]
  },
  {
   "cell_type": "code",
   "execution_count": 20,
   "metadata": {},
   "outputs": [
    {
     "data": {
      "image/png": "[encoded data removed]",
      "text/plain": [
       "<Figure size 1000x1000 with 2 Axes>"
      ]
     },
     "metadata": {},
     "output_type": "display_data"
    }
   ],
   "source": [
    "plt.figure(figsize=(10,10))\n",
    "sns.heatmap(cm,annot=True,fmt=\".3f\",square=True,cmap=\"Blues_r\");"
   ]
  },
  {
   "cell_type": "code",
   "execution_count": 21,
   "metadata": {},
   "outputs": [
    {
     "data": {
      "text/plain": [
       "70.8029197080292"
      ]
     },
     "execution_count": 21,
     "metadata": {},
     "output_type": "execute_result"
    }
   ],
   "source": [
    "((381+395)/(381+197+123+395))*100"
   ]
  },
  {
   "cell_type": "code",
   "execution_count": 22,
   "metadata": {},
   "outputs": [
    {
     "data": {
      "text/plain": [
       "0.6672297297297297"
      ]
     },
     "execution_count": 22,
     "metadata": {},
     "output_type": "execute_result"
    }
   ],
   "source": [
    "395/(197+395)\n",
    "#formula of precision of 1"
   ]
  },
  {
   "cell_type": "code",
   "execution_count": 23,
   "metadata": {},
   "outputs": [
    {
     "name": "stdout",
     "output_type": "stream",
     "text": [
      "              precision    recall  f1-score   support\n",
      "\n",
      "           0       0.76      0.66      0.70       578\n",
      "           1       0.67      0.76      0.71       518\n",
      "\n",
      "    accuracy                           0.71      1096\n",
      "   macro avg       0.71      0.71      0.71      1096\n",
      "weighted avg       0.71      0.71      0.71      1096\n",
      "\n"
     ]
    }
   ],
   "source": [
    "#Classification report\n",
    "#its like summary\n",
    "from sklearn.metrics import classification_report\n",
    "print(classification_report(Y,y_pred))"
   ]
  },
  {
   "cell_type": "markdown",
   "metadata": {},
   "source": [
    "# functions for precision,accuraccy ,recall\n",
    "#P(y=1/x)"
   ]
  },
  {
   "cell_type": "code",
   "execution_count": null,
   "metadata": {},
   "outputs": [],
   "source": []
  },
  {
   "cell_type": "code",
   "execution_count": 24,
   "metadata": {},
   "outputs": [
    {
     "data": {
      "text/plain": [
       "array([0.62319116, 0.37680884])"
      ]
     },
     "execution_count": 24,
     "metadata": {},
     "output_type": "execute_result"
    }
   ],
   "source": [
    "classifier.predict_proba(X)[43]\n",
    "#0=9.99.......   and 1=3.046......."
   ]
  },
  {
   "cell_type": "code",
   "execution_count": 25,
   "metadata": {},
   "outputs": [],
   "source": [
    "# ROC Curve\n",
    "#An ROC (Receiver Operating Characteristic) curve is a useful graphical tool to evaluate the performance of a binary classifier as its discrimination threshold is varied. To understand the ROC curve, we should first get familiar\n",
    "#with a binary classifier and the confusion matrix."
   ]
  },
  {
   "cell_type": "code",
   "execution_count": 26,
   "metadata": {},
   "outputs": [
    {
     "data": {
      "text/plain": [
       "Text(0, 0.5, 'True Positive Rate')"
      ]
     },
     "execution_count": 26,
     "metadata": {},
     "output_type": "execute_result"
    },
    {
     "data": {
      "image/png": "[encoded data removed]",
      "text/plain": [
       "<Figure size 640x480 with 1 Axes>"
      ]
     },
     "metadata": {},
     "output_type": "display_data"
    }
   ],
   "source": [
    "from sklearn.metrics import roc_curve\n",
    "from sklearn.metrics import roc_auc_score\n",
    "\n",
    "fpr, tpr, thresholds = roc_curve(Y, classifier.predict_proba (X)[:,1])\n",
    "#fpr = recall,tpr=precision\n",
    "auc = roc_auc_score(Y, y_pred)\n",
    "\n",
    "import matplotlib.pyplot as plt\n",
    "plt.plot(fpr, tpr, color='red', label='logit model ( area  = %0.2f)'%auc)\n",
    "plt.plot([0, 1], [0, 1], 'k--')\n",
    "plt.xlabel('False Positive Rate or [1 - True Negative Rate]')\n",
    "plt.ylabel('True Positive Rate')\n"
   ]
  },
  {
   "cell_type": "code",
   "execution_count": 27,
   "metadata": {},
   "outputs": [
    {
     "data": {
      "text/plain": [
       "0.7108589063606365"
      ]
     },
     "execution_count": 27,
     "metadata": {},
     "output_type": "execute_result"
    }
   ],
   "source": [
    "#area under curve\n",
    "auc"
   ]
  },
  {
   "cell_type": "code",
   "execution_count": 28,
   "metadata": {},
   "outputs": [
    {
     "data": {
      "text/plain": [
       "array([1.79054593e+00, 7.90545935e-01, 7.87863385e-01, 7.80438455e-01,\n",
       "       7.77395844e-01, 7.76462373e-01, 7.62275971e-01, 7.61429713e-01,\n",
       "       7.53158678e-01, 7.51243537e-01, 7.48992067e-01, 7.47934566e-01,\n",
       "       7.43891339e-01, 7.43489999e-01, 7.39028665e-01, 7.38313952e-01,\n",
       "       7.35520206e-01, 7.34774649e-01, 7.33204355e-01, 7.32598687e-01,\n",
       "       7.28818243e-01, 7.28598763e-01, 7.24064656e-01, 7.23091737e-01,\n",
       "       7.21417349e-01, 7.20951087e-01, 7.20791088e-01, 7.20610901e-01,\n",
       "       7.18246894e-01, 7.17902002e-01, 7.17597383e-01, 7.17060100e-01,\n",
       "       7.16867628e-01, 7.15302513e-01, 7.12082039e-01, 7.11943596e-01,\n",
       "       7.10388317e-01, 7.09792061e-01, 7.08524027e-01, 7.07806569e-01,\n",
       "       7.03971943e-01, 7.03570516e-01, 7.03325374e-01, 7.03012024e-01,\n",
       "       7.02442673e-01, 7.01803943e-01, 7.00108315e-01, 7.00037432e-01,\n",
       "       6.99357008e-01, 6.99300941e-01, 6.98492330e-01, 6.98009381e-01,\n",
       "       6.97704110e-01, 6.97361014e-01, 6.97356794e-01, 6.97233981e-01,\n",
       "       6.96379943e-01, 6.95849033e-01, 6.95700474e-01, 6.93851273e-01,\n",
       "       6.92553693e-01, 6.92474711e-01, 6.91979269e-01, 6.91806917e-01,\n",
       "       6.91483385e-01, 6.90987058e-01, 6.90727136e-01, 6.90630803e-01,\n",
       "       6.90165995e-01, 6.89596245e-01, 6.89590537e-01, 6.88520271e-01,\n",
       "       6.88115246e-01, 6.87154023e-01, 6.86597915e-01, 6.86297260e-01,\n",
       "       6.85545951e-01, 6.85054492e-01, 6.84971583e-01, 6.84034828e-01,\n",
       "       6.83186448e-01, 6.80638350e-01, 6.80529253e-01, 6.77637112e-01,\n",
       "       6.77361005e-01, 6.76625223e-01, 6.76506098e-01, 6.76054843e-01,\n",
       "       6.76021787e-01, 6.75984349e-01, 6.75760503e-01, 6.75279473e-01,\n",
       "       6.75006703e-01, 6.73507584e-01, 6.73126042e-01, 6.72748148e-01,\n",
       "       6.72455195e-01, 6.70539557e-01, 6.70537523e-01, 6.70124739e-01,\n",
       "       6.70108529e-01, 6.63330013e-01, 6.63287406e-01, 6.62771744e-01,\n",
       "       6.62321898e-01, 6.58722026e-01, 6.58633213e-01, 6.58292985e-01,\n",
       "       6.58245536e-01, 6.56910200e-01, 6.56280248e-01, 6.55267410e-01,\n",
       "       6.55173076e-01, 6.54653538e-01, 6.53355919e-01, 6.52389887e-01,\n",
       "       6.52312357e-01, 6.52265521e-01, 6.49772672e-01, 6.48420971e-01,\n",
       "       6.48015731e-01, 6.47321873e-01, 6.46881615e-01, 6.45697623e-01,\n",
       "       6.45295538e-01, 6.45137932e-01, 6.45071327e-01, 6.44740759e-01,\n",
       "       6.43414857e-01, 6.40529553e-01, 6.39909969e-01, 6.38404398e-01,\n",
       "       6.38213710e-01, 6.36428108e-01, 6.35742220e-01, 6.31866177e-01,\n",
       "       6.31863111e-01, 6.30640434e-01, 6.30635740e-01, 6.30104731e-01,\n",
       "       6.29662492e-01, 6.28370462e-01, 6.28058118e-01, 6.27788238e-01,\n",
       "       6.27064981e-01, 6.25682339e-01, 6.24908997e-01, 6.23165462e-01,\n",
       "       6.22791898e-01, 6.22605150e-01, 6.21575356e-01, 6.20855164e-01,\n",
       "       6.20356275e-01, 6.19875454e-01, 6.18943471e-01, 6.17412062e-01,\n",
       "       6.16142130e-01, 6.15157827e-01, 6.14116169e-01, 6.13451695e-01,\n",
       "       6.13412139e-01, 6.11704845e-01, 6.11541262e-01, 6.09613118e-01,\n",
       "       6.09400633e-01, 6.08208807e-01, 6.07922926e-01, 6.05817659e-01,\n",
       "       6.05680297e-01, 6.04448401e-01, 6.03681880e-01, 6.02690372e-01,\n",
       "       5.99837804e-01, 5.99102925e-01, 5.99053864e-01, 5.98955164e-01,\n",
       "       5.97933612e-01, 5.97059669e-01, 5.96782312e-01, 5.96758825e-01,\n",
       "       5.96689846e-01, 5.96667962e-01, 5.95702770e-01, 5.95554565e-01,\n",
       "       5.95126511e-01, 5.94746477e-01, 5.94575701e-01, 5.92152312e-01,\n",
       "       5.92019799e-01, 5.91658213e-01, 5.90759593e-01, 5.90441151e-01,\n",
       "       5.89642753e-01, 5.88069308e-01, 5.86396057e-01, 5.84052995e-01,\n",
       "       5.83744350e-01, 5.83741111e-01, 5.82733158e-01, 5.80837373e-01,\n",
       "       5.80333792e-01, 5.78926199e-01, 5.77434878e-01, 5.76480745e-01,\n",
       "       5.76385337e-01, 5.76162457e-01, 5.75446863e-01, 5.74881850e-01,\n",
       "       5.74511103e-01, 5.72423841e-01, 5.71786569e-01, 5.71588600e-01,\n",
       "       5.69447591e-01, 5.69138824e-01, 5.68779868e-01, 5.67591905e-01,\n",
       "       5.66794741e-01, 5.65569453e-01, 5.65468451e-01, 5.64856623e-01,\n",
       "       5.62984268e-01, 5.62784251e-01, 5.62351849e-01, 5.62026086e-01,\n",
       "       5.61796472e-01, 5.61668501e-01, 5.61272556e-01, 5.61020962e-01,\n",
       "       5.60071106e-01, 5.58474738e-01, 5.57902295e-01, 5.56754838e-01,\n",
       "       5.56603059e-01, 5.55821202e-01, 5.54970549e-01, 5.53919809e-01,\n",
       "       5.52881734e-01, 5.52382653e-01, 5.51877893e-01, 5.51058180e-01,\n",
       "       5.49072656e-01, 5.48701985e-01, 5.48403902e-01, 5.47453168e-01,\n",
       "       5.46231805e-01, 5.40781284e-01, 5.39995217e-01, 5.38875549e-01,\n",
       "       5.38500191e-01, 5.38320835e-01, 5.37301755e-01, 5.31599586e-01,\n",
       "       5.26243149e-01, 5.26108096e-01, 5.24345151e-01, 5.24185069e-01,\n",
       "       5.23509177e-01, 5.22621514e-01, 5.22125534e-01, 5.20636268e-01,\n",
       "       5.18868254e-01, 5.17114788e-01, 5.12537832e-01, 5.11570040e-01,\n",
       "       5.09359361e-01, 5.07148875e-01, 5.05522712e-01, 5.03739180e-01,\n",
       "       4.84545284e-01, 4.84133186e-01, 4.83826734e-01, 4.83510765e-01,\n",
       "       4.83064247e-01, 4.79730120e-01, 4.78832034e-01, 4.74659335e-01,\n",
       "       4.74535301e-01, 4.74304345e-01, 4.70646792e-01, 4.69139800e-01,\n",
       "       4.65803414e-01, 4.64880657e-01, 4.64407723e-01, 4.63264213e-01,\n",
       "       4.60366071e-01, 4.59749224e-01, 4.57381897e-01, 4.44585072e-01,\n",
       "       4.40859840e-01, 4.40538468e-01, 4.38168970e-01, 4.37021059e-01,\n",
       "       4.34071951e-01, 4.32920969e-01, 4.29883711e-01, 4.29711711e-01,\n",
       "       4.29398684e-01, 4.29244223e-01, 4.28494435e-01, 4.28223591e-01,\n",
       "       4.25301453e-01, 4.23685019e-01, 4.23230029e-01, 4.22744919e-01,\n",
       "       4.21882225e-01, 4.21828609e-01, 4.17053384e-01, 4.15044949e-01,\n",
       "       4.12165647e-01, 4.09742416e-01, 4.07034042e-01, 4.06044838e-01,\n",
       "       3.95474434e-01, 3.93994420e-01, 3.89484872e-01, 3.89007491e-01,\n",
       "       3.88497210e-01, 3.86217552e-01, 3.85745334e-01, 3.85638463e-01,\n",
       "       3.82017168e-01, 3.81906459e-01, 3.79760299e-01, 3.79628905e-01,\n",
       "       3.79137307e-01, 3.78827343e-01, 3.78774572e-01, 3.77520553e-01,\n",
       "       3.77347244e-01, 3.76971091e-01, 3.76808840e-01, 3.76507358e-01,\n",
       "       3.72807071e-01, 3.71613358e-01, 3.69924142e-01, 3.69528662e-01,\n",
       "       3.69363719e-01, 3.68731201e-01, 3.66047904e-01, 3.65457412e-01,\n",
       "       3.64965609e-01, 3.64339359e-01, 3.63574334e-01, 3.62377665e-01,\n",
       "       3.54606250e-01, 3.52813381e-01, 3.51572316e-01, 3.48685580e-01,\n",
       "       3.47614954e-01, 3.46439810e-01, 3.39472603e-01, 3.37166619e-01,\n",
       "       3.37165028e-01, 3.36503719e-01, 3.35260624e-01, 3.35203219e-01,\n",
       "       3.32237640e-01, 3.32081851e-01, 3.31264158e-01, 3.30680312e-01,\n",
       "       3.30104459e-01, 3.28688947e-01, 3.26541120e-01, 3.26391194e-01,\n",
       "       3.24937644e-01, 3.24790466e-01, 3.19576427e-01, 3.18245392e-01,\n",
       "       3.17569124e-01, 3.17469967e-01, 3.14861463e-01, 3.14702925e-01,\n",
       "       3.13160661e-01, 3.12992522e-01, 3.08477627e-01, 3.07976094e-01,\n",
       "       3.04103792e-01, 3.03987757e-01, 3.03044931e-01, 3.02474292e-01,\n",
       "       2.85881165e-01, 2.85178398e-01, 2.68302398e-01, 2.67998124e-01,\n",
       "       2.57127959e-01, 2.55242056e-01, 2.54774803e-01, 2.54096124e-01,\n",
       "       2.51344948e-01, 2.48655916e-01, 2.40504548e-01, 2.40125837e-01,\n",
       "       2.30773302e-01, 2.30178824e-01, 2.28378162e-01, 2.27365152e-01,\n",
       "       2.17360087e-01, 2.16809338e-01, 2.14376150e-01, 2.14310371e-01,\n",
       "       2.05365402e-01, 2.02613610e-01, 1.95836345e-01, 1.93310384e-01,\n",
       "       1.92202021e-01, 1.91557987e-01, 1.88720001e-01, 1.87863457e-01,\n",
       "       1.72084356e-01, 1.71459622e-01, 1.69194714e-01, 1.68676749e-01,\n",
       "       1.64209986e-01, 1.61245023e-01, 1.57230523e-01, 1.54800237e-01,\n",
       "       1.42976722e-01, 1.39337794e-01, 1.32919432e-01, 1.30953337e-01,\n",
       "       1.20911491e-01, 1.18515473e-01, 1.07264871e-01, 1.03665659e-01,\n",
       "       1.01432324e-01, 9.98696058e-02, 9.97873404e-02, 9.11161149e-02,\n",
       "       8.98018446e-02, 8.13302847e-02, 8.10871744e-02, 8.00707566e-02,\n",
       "       7.84357792e-02, 6.66378794e-02, 6.60628752e-02, 6.42037886e-02,\n",
       "       6.20841068e-02, 5.51747160e-02, 5.43854448e-02, 5.27772797e-02,\n",
       "       4.69588620e-02, 4.40099802e-02, 4.27916350e-02, 2.22054253e-02,\n",
       "       2.08351427e-02, 3.29607242e-29])"
      ]
     },
     "execution_count": 28,
     "metadata": {},
     "output_type": "execute_result"
    }
   ],
   "source": [
    "#can we changed the value thresholds?\n",
    "thresholds"
   ]
  },
  {
   "cell_type": "code",
   "execution_count": null,
   "metadata": {},
   "outputs": [],
   "source": []
  }
 ],
 "metadata": {
  "kernelspec": {
   "display_name": "Python 3 (ipykernel)",
   "language": "python",
   "name": "python3"
  },
  "language_info": {
   "codemirror_mode": {
    "name": "ipython",
    "version": 3
   },
   "file_extension": ".py",
   "mimetype": "text/x-python",
   "name": "python",
   "nbconvert_exporter": "python",
   "pygments_lexer": "ipython3",
   "version": "3.9.13"
  }
 },
 "nbformat": 4,
 "nbformat_minor": 4
}
